{
 "cells": [
  {
   "cell_type": "code",
   "execution_count": 24,
   "metadata": {},
   "outputs": [],
   "source": [
    "#Load text\n",
    "import numpy as np\n",
    "import pandas as pd\n",
    "from hmmlearn import hmm\n",
    "import math\n"
   ]
  },
  {
   "cell_type": "code",
   "execution_count": 4,
   "metadata": {},
   "outputs": [],
   "source": [
    "def loadData(file_name='',data_type='float'):\n",
    "    data=np.loadtxt('./data/'+file_name, delimiter=',',dtype=data_type)\n",
    "    return data"
   ]
  },
  {
   "cell_type": "code",
   "execution_count": 18,
   "metadata": {},
   "outputs": [],
   "source": [
    "XRAW=loadData('Label.csv')\n",
    "Obs=loadData('Observations.csv')"
   ]
  },
  {
   "cell_type": "code",
   "execution_count": 19,
   "metadata": {},
   "outputs": [],
   "source": [
    "#XRAW=loadData('Transformed_LabelsCSV.csv')"
   ]
  },
  {
   "cell_type": "code",
   "execution_count": 20,
   "metadata": {},
   "outputs": [],
   "source": [
    "XNEW=XRAW[:100,]\n"
   ]
  },
  {
   "cell_type": "code",
   "execution_count": 21,
   "metadata": {},
   "outputs": [
    {
     "name": "stdout",
     "output_type": "stream",
     "text": [
      "(100, 4)\n"
     ]
    }
   ],
   "source": [
    "print XNEW.shape"
   ]
  },
  {
   "cell_type": "code",
   "execution_count": 47,
   "metadata": {},
   "outputs": [],
   "source": [
    "n_states=100 #multiple of 3\n",
    "# x= cellnum,\n",
    "X=np.zeros((100,2))\n",
    "for i in range(100):\n",
    "    newx=math.floor(((XNEW[i,2]+1.5)*100)/30)\n",
    "    #print newx\n",
    "    \n",
    "    newy=math.floor(((XNEW[i,3]+1.5)*100)/30)\n",
    "    #print (newy*10) +newx\n",
    "    X[i,0]=(newy*10) +newx\n",
    "    obsidx=math.trunc( XNEW[i,1])\n",
    "    X[i,1]=Obs[0,obsidx]"
   ]
  },
  {
   "cell_type": "code",
   "execution_count": 62,
   "metadata": {},
   "outputs": [],
   "source": [
    "Xpred=np.zeros((100,2))\n",
    "for i in range(100):\n",
    "    Xpred[i,0]=0\n",
    "    Xpred[i,1]=Obs[1,i]\n"
   ]
  },
  {
   "cell_type": "code",
   "execution_count": 49,
   "metadata": {},
   "outputs": [
    {
     "name": "stderr",
     "output_type": "stream",
     "text": [
      "/usr/local/lib/python2.7/site-packages/sklearn/utils/deprecation.py:70: DeprecationWarning: Function distribute_covar_matrix_to_match_covariance_type is deprecated; The functon distribute_covar_matrix_to_match_covariance_typeis deprecated in 0.18 and will be removed in 0.20.\n",
      "  warnings.warn(msg, category=DeprecationWarning)\n",
      "/usr/local/lib/python2.7/site-packages/sklearn/utils/deprecation.py:70: DeprecationWarning: Function log_multivariate_normal_density is deprecated; The function log_multivariate_normal_density is deprecated in 0.18 and will be removed in 0.20.\n",
      "  warnings.warn(msg, category=DeprecationWarning)\n",
      "/usr/local/lib/python2.7/site-packages/sklearn/utils/deprecation.py:70: DeprecationWarning: Function log_multivariate_normal_density is deprecated; The function log_multivariate_normal_density is deprecated in 0.18 and will be removed in 0.20.\n",
      "  warnings.warn(msg, category=DeprecationWarning)\n",
      "/usr/local/lib/python2.7/site-packages/sklearn/utils/deprecation.py:70: DeprecationWarning: Function log_multivariate_normal_density is deprecated; The function log_multivariate_normal_density is deprecated in 0.18 and will be removed in 0.20.\n",
      "  warnings.warn(msg, category=DeprecationWarning)\n",
      "/usr/local/lib/python2.7/site-packages/sklearn/utils/deprecation.py:70: DeprecationWarning: Function log_multivariate_normal_density is deprecated; The function log_multivariate_normal_density is deprecated in 0.18 and will be removed in 0.20.\n",
      "  warnings.warn(msg, category=DeprecationWarning)\n",
      "/usr/local/lib/python2.7/site-packages/sklearn/utils/deprecation.py:70: DeprecationWarning: Function log_multivariate_normal_density is deprecated; The function log_multivariate_normal_density is deprecated in 0.18 and will be removed in 0.20.\n",
      "  warnings.warn(msg, category=DeprecationWarning)\n",
      "/usr/local/lib/python2.7/site-packages/sklearn/utils/deprecation.py:70: DeprecationWarning: Function log_multivariate_normal_density is deprecated; The function log_multivariate_normal_density is deprecated in 0.18 and will be removed in 0.20.\n",
      "  warnings.warn(msg, category=DeprecationWarning)\n",
      "/usr/local/lib/python2.7/site-packages/sklearn/utils/deprecation.py:70: DeprecationWarning: Function log_multivariate_normal_density is deprecated; The function log_multivariate_normal_density is deprecated in 0.18 and will be removed in 0.20.\n",
      "  warnings.warn(msg, category=DeprecationWarning)\n",
      "/usr/local/lib/python2.7/site-packages/sklearn/utils/deprecation.py:70: DeprecationWarning: Function log_multivariate_normal_density is deprecated; The function log_multivariate_normal_density is deprecated in 0.18 and will be removed in 0.20.\n",
      "  warnings.warn(msg, category=DeprecationWarning)\n",
      "/usr/local/lib/python2.7/site-packages/sklearn/utils/deprecation.py:70: DeprecationWarning: Function log_multivariate_normal_density is deprecated; The function log_multivariate_normal_density is deprecated in 0.18 and will be removed in 0.20.\n",
      "  warnings.warn(msg, category=DeprecationWarning)\n",
      "/usr/local/lib/python2.7/site-packages/sklearn/utils/deprecation.py:70: DeprecationWarning: Function log_multivariate_normal_density is deprecated; The function log_multivariate_normal_density is deprecated in 0.18 and will be removed in 0.20.\n",
      "  warnings.warn(msg, category=DeprecationWarning)\n"
     ]
    },
    {
     "data": {
      "text/plain": [
       "GaussianHMM(algorithm='viterbi', covariance_type='diag', covars_prior=0.01,\n",
       "      covars_weight=1, init_params='stmc', means_prior=0, means_weight=0,\n",
       "      min_covar=0.001, n_components=100, n_iter=10, params='stmc',\n",
       "      random_state=None, startprob_prior=1.0, tol=0.01, transmat_prior=1.0,\n",
       "      verbose=False)"
      ]
     },
     "execution_count": 49,
     "metadata": {},
     "output_type": "execute_result"
    }
   ],
   "source": [
    "clf = hmm.GaussianHMM(n_components=n_states, n_iter=10)\n",
    "clf.fit(X)\n"
   ]
  },
  {
   "cell_type": "code",
   "execution_count": 63,
   "metadata": {},
   "outputs": [
    {
     "name": "stdout",
     "output_type": "stream",
     "text": [
      "(100, 2)\n",
      "(100, 2)\n"
     ]
    }
   ],
   "source": [
    "print Xpred.shape\n",
    "print X.shape"
   ]
  },
  {
   "cell_type": "code",
   "execution_count": 69,
   "metadata": {},
   "outputs": [
    {
     "name": "stderr",
     "output_type": "stream",
     "text": [
      "/usr/local/lib/python2.7/site-packages/sklearn/utils/deprecation.py:70: DeprecationWarning: Function log_multivariate_normal_density is deprecated; The function log_multivariate_normal_density is deprecated in 0.18 and will be removed in 0.20.\n",
      "  warnings.warn(msg, category=DeprecationWarning)\n"
     ]
    }
   ],
   "source": [
    "ZZ=clf.predict(X)"
   ]
  },
  {
   "cell_type": "code",
   "execution_count": 76,
   "metadata": {},
   "outputs": [
    {
     "name": "stdout",
     "output_type": "stream",
     "text": [
      "[37 79  4 36 20 51 86 79 22 86  1 66 20 26 24 61 79 86 20 17 36 36 37 36 79\n",
      " 52 35 51 84 68 79  4 28 35 61 36 86 76 36 61 39 21 37 29 29 45 36 36 48 86\n",
      " 95 35 61 39 55  4 81 61 79 45 36 31 20 24 56 51 86 95 36 61 51 84 79 10 24\n",
      " 79 10 36 35 61 51 84 79 37 79 52 37 29 35 88 86 12  9 79 79 86 79 36 61 35]\n",
      "[[  1.13510002e-04   1.11205250e-07   7.62314807e-03 ...,   1.88558072e-08\n",
      "    1.02933462e-08   9.31837430e-09]\n",
      " [  3.97214550e-05   7.83640239e-04   5.16040447e-04 ...,   1.31679887e-04\n",
      "    1.96230792e-05   1.78323148e-02]\n",
      " [  3.15538134e-04   5.93441033e-03   5.43050511e-03 ...,   2.99801295e-02\n",
      "    3.59983782e-03   7.49570600e-02]\n",
      " ..., \n",
      " [  1.12352564e-06   2.45599489e-02   1.08095553e-05 ...,   6.25102784e-05\n",
      "    1.21438606e-09   1.35333729e-04]\n",
      " [  4.71576454e-02   6.45127155e-04   1.00991910e-06 ...,   7.92578745e-02\n",
      "    9.32898982e-06   1.21948585e-04]\n",
      " [  9.00693880e-05   2.21073674e-03   1.22772082e-02 ...,   2.05931401e-03\n",
      "    1.41855849e-05   8.25731157e-03]]\n"
     ]
    },
    {
     "name": "stderr",
     "output_type": "stream",
     "text": [
      "/usr/local/lib/python2.7/site-packages/sklearn/utils/deprecation.py:70: DeprecationWarning: Function log_multivariate_normal_density is deprecated; The function log_multivariate_normal_density is deprecated in 0.18 and will be removed in 0.20.\n",
      "  warnings.warn(msg, category=DeprecationWarning)\n"
     ]
    },
    {
     "name": "stdout",
     "output_type": "stream",
     "text": [
      "-1685.49937651\n"
     ]
    }
   ],
   "source": [
    "print ZZ\n",
    "print clf.transmat_\n",
    "print clf.score(Xpred)"
   ]
  },
  {
   "cell_type": "code",
   "execution_count": 68,
   "metadata": {},
   "outputs": [],
   "source": [
    "XR=np.zeros((100,2))\n",
    "X2=XRAW[100:200,]\n",
    "for i in range(100):\n",
    "    newx=math.floor(((X2[i,2]+1.5)*100)/30)\n",
    "    #print newx\n",
    "    \n",
    "    newy=math.floor(((X2[i,3]+1.5)*100)/30)\n",
    "    #print (newy*10) +newx\n",
    "    XR[i,0]=(newy*10) +newx\n",
    "    obsidx=math.trunc( X2[i,1])\n",
    "    XR[i,1]=Obs[0,obsidx]\n",
    "\n",
    "#print XR"
   ]
  },
  {
   "cell_type": "code",
   "execution_count": 71,
   "metadata": {},
   "outputs": [
    {
     "name": "stdout",
     "output_type": "stream",
     "text": [
      "[[ 51.        1.3011 ]\n",
      " [ 14.        0.30078]\n",
      " [ 62.        1.2912 ]\n",
      " [ 85.        1.047  ]\n",
      " [ 22.        0.73472]\n",
      " [ 27.        0.41252]\n",
      " [ 57.        0.6104 ]\n",
      " [ 14.        0.35618]\n",
      " [ 76.        0.94745]\n",
      " [ 57.        0.67754]\n",
      " [ 38.        0.4685 ]\n",
      " [ 25.        0.36744]\n",
      " [ 23.        0.59667]\n",
      " [ 62.        1.2611 ]\n",
      " [ 73.        1.26   ]\n",
      " [ 26.        0.35113]\n",
      " [ 14.        0.3409 ]\n",
      " [ 58.        0.5783 ]\n",
      " [ 22.        0.67736]\n",
      " [ 27.        0.34652]\n",
      " [ 85.        1.0401 ]\n",
      " [ 85.        1.0266 ]\n",
      " [ 51.        1.2949 ]\n",
      " [ 85.        1.0764 ]\n",
      " [ 15.        0.37806]\n",
      " [ 27.        0.36207]\n",
      " [ 77.        0.83043]\n",
      " [ 26.        0.30153]\n",
      " [ 37.        0.48578]\n",
      " [ 41.        1.0887 ]\n",
      " [ 14.        0.22729]\n",
      " [ 61.        1.3073 ]\n",
      " [ 32.        0.87671]\n",
      " [ 77.        0.86547]\n",
      " [ 27.        0.42398]\n",
      " [ 85.        1.0505 ]\n",
      " [ 58.        0.58155]\n",
      " [ 48.        0.53533]\n",
      " [ 85.        1.0401 ]\n",
      " [ 25.        0.35178]\n",
      " [ 32.        0.98774]\n",
      " [ 67.        0.79593]\n",
      " [ 51.        1.2566 ]\n",
      " [ 41.        1.0744 ]\n",
      " [ 41.        1.1954 ]\n",
      " [ 48.        0.50155]\n",
      " [ 84.        1.0813 ]\n",
      " [ 84.        1.0355 ]\n",
      " [ 67.        0.82392]\n",
      " [ 58.        0.64405]\n",
      " [ 13.        0.41511]\n",
      " [ 77.        0.86296]\n",
      " [ 27.        0.39725]\n",
      " [ 32.        0.82046]\n",
      " [ 57.        0.67832]\n",
      " [ 62.        1.2821 ]\n",
      " [ 86.        0.92175]\n",
      " [ 27.        0.37027]\n",
      " [ 14.        0.29791]\n",
      " [ 48.        0.48719]\n",
      " [ 85.        1.0497 ]\n",
      " [ 38.        0.43998]\n",
      " [ 22.        0.66522]\n",
      " [ 73.        1.1962 ]\n",
      " [ 38.        0.44325]\n",
      " [ 26.        0.35113]\n",
      " [ 58.        0.60742]\n",
      " [ 13.        0.46809]\n",
      " [ 84.        1.0492 ]\n",
      " [ 26.        0.35684]\n",
      " [ 25.        0.35178]\n",
      " [ 37.        0.44052]\n",
      " [ 14.        0.23183]\n",
      " [ 74.        1.1047 ]\n",
      " [ 73.        1.1626 ]\n",
      " [ 15.        0.3824 ]\n",
      " [ 72.        1.2588 ]\n",
      " [ 85.        1.0764 ]\n",
      " [ 76.        0.94887]\n",
      " [ 26.        0.32283]\n",
      " [ 26.        0.34531]\n",
      " [ 38.        0.47478]\n",
      " [ 15.        0.31996]\n",
      " [ 62.        1.2825 ]\n",
      " [ 15.        0.34056]\n",
      " [ 25.        0.32332]\n",
      " [ 51.        1.3494 ]\n",
      " [ 41.        1.1055 ]\n",
      " [ 76.        0.87578]\n",
      " [ 15.        0.35406]\n",
      " [ 57.        0.67221]\n",
      " [ 48.        0.48663]\n",
      " [ 32.        0.88655]\n",
      " [ 14.        0.23435]\n",
      " [ 14.        0.32062]\n",
      " [ 58.        0.63249]\n",
      " [ 14.        0.2317 ]\n",
      " [ 86.        0.98402]\n",
      " [ 26.        0.34847]\n",
      " [ 77.        0.86204]]\n"
     ]
    }
   ],
   "source": [
    "print X"
   ]
  },
  {
   "cell_type": "code",
   "execution_count": null,
   "metadata": {},
   "outputs": [],
   "source": []
  }
 ],
 "metadata": {
  "kernelspec": {
   "display_name": "Python 2",
   "language": "python",
   "name": "python2"
  },
  "language_info": {
   "codemirror_mode": {
    "name": "ipython",
    "version": 2
   },
   "file_extension": ".py",
   "mimetype": "text/x-python",
   "name": "python",
   "nbconvert_exporter": "python",
   "pygments_lexer": "ipython2",
   "version": "2.7.13"
  }
 },
 "nbformat": 4,
 "nbformat_minor": 2
}
